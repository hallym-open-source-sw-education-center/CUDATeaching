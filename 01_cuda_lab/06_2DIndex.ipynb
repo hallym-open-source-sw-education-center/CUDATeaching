{
  "nbformat": 4,
  "nbformat_minor": 0,
  "metadata": {
    "colab": {
      "name": "06_2DIndex.ipynb",
      "version": "0.3.2",
      "provenance": [],
      "include_colab_link": true
    },
    "kernelspec": {
      "name": "python3",
      "display_name": "Python 3"
    }
  },
  "cells": [
    {
      "cell_type": "markdown",
      "metadata": {
        "id": "view-in-github",
        "colab_type": "text"
      },
      "source": [
        "<a href=\"https://colab.research.google.com/github/jeonggunlee/CUDATeaching/blob/master/01_cuda_lab/06_2DIndex.ipynb\" target=\"_parent\"><img src=\"https://colab.research.google.com/assets/colab-badge.svg\" alt=\"Open In Colab\"/></a>"
      ]
    },
    {
      "cell_type": "code",
      "metadata": {
        "id": "b2WRUswXqQmB",
        "colab_type": "code",
        "colab": {
          "base_uri": "https://localhost:8080/",
          "height": 36
        },
        "outputId": "0e9322b6-173c-49f8-9323-0ae1f6ffb07e"
      },
      "source": [
        "%%writefile cuda2Dindex.cu\n",
        "\n",
        "#include <stdio.h>\n",
        "__global__ void kernel( int *a )\n",
        "{\n",
        "   int ix = blockIdx.x*blockDim.x + threadIdx.x;\n",
        "   int iy = blockIdx.y*blockDim.y + threadIdx.y;\n",
        "   int idx = iy * blockDim.x * gridDim.x + ix;\n",
        "\n",
        "   a[idx] = a[idx] + 1;\n",
        "}\n",
        "\n",
        "int main()\n",
        "{\n",
        "  int *host_array;\n",
        "  int *dev_array;\n",
        "\n",
        "  host_array = (int *) malloc(sizeof(int)*16);\n",
        "    \n",
        "  cudaMalloc(&dev_array, sizeof(int)*16);\n",
        "  cudaMemset(dev_array, 0, 16);\n",
        "\n",
        "  dim3 block(2,2);\n",
        "  dim3 threadPerBlock(2,2);\n",
        "  kernel<<<block, threadPerBlock>>>(dev_array);\n",
        "    \n",
        "  cudaMemcpy(host_array, dev_array, sizeof(int)*16, cudaMemcpyDeviceToHost);\n",
        "\n",
        "  for(int i = 0; i < 16; i++) printf(\" %d \", host_array[i]);\n",
        "  printf(\"\\n\");\n",
        "\n",
        "  free(host_array);\n",
        "  cudaFree(dev_array);\n",
        "  cudaDeviceSynchronize();\n",
        "  return 0;\n",
        "}"
      ],
      "execution_count": 7,
      "outputs": [
        {
          "output_type": "stream",
          "text": [
            "Overwriting cuda2Dindex.cu\n"
          ],
          "name": "stdout"
        }
      ]
    },
    {
      "cell_type": "code",
      "metadata": {
        "id": "dKTtkEQlqaBV",
        "colab_type": "code",
        "colab": {}
      },
      "source": [
        "!nvcc -o cuda2Dindex cuda2Dindex.cu"
      ],
      "execution_count": 0,
      "outputs": []
    },
    {
      "cell_type": "code",
      "metadata": {
        "id": "F3g-cBNdqfas",
        "colab_type": "code",
        "colab": {
          "base_uri": "https://localhost:8080/",
          "height": 36
        },
        "outputId": "a3529faf-fd82-4a1b-c854-7a3cedea37b4"
      },
      "source": [
        "!./cuda2Dindex"
      ],
      "execution_count": 9,
      "outputs": [
        {
          "output_type": "stream",
          "text": [
            " 0  0  0  0  0  0  0  0  0  0  0  0  0  0  0  0 \n"
          ],
          "name": "stdout"
        }
      ]
    },
    {
      "cell_type": "code",
      "metadata": {
        "id": "QCaKN9CMqkXG",
        "colab_type": "code",
        "colab": {}
      },
      "source": [
        ""
      ],
      "execution_count": 0,
      "outputs": []
    }
  ]
}