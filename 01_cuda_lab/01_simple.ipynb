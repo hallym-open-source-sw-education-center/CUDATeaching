{
  "nbformat": 4,
  "nbformat_minor": 0,
  "metadata": {
    "colab": {
      "name": "01_simple.ipynb",
      "version": "0.3.2",
      "provenance": [],
      "include_colab_link": true
    },
    "kernelspec": {
      "name": "python3",
      "display_name": "Python 3"
    }
  },
  "cells": [
    {
      "cell_type": "markdown",
      "metadata": {
        "id": "view-in-github",
        "colab_type": "text"
      },
      "source": [
        "<a href=\"https://colab.research.google.com/github/jeonggunlee/CUDATeaching/blob/master/01_cuda_lab/01_simple.ipynb\" target=\"_parent\"><img src=\"https://colab.research.google.com/assets/colab-badge.svg\" alt=\"Open In Colab\"/></a>"
      ]
    },
    {
      "cell_type": "markdown",
      "metadata": {
        "id": "CmaRC_vtUkVM",
        "colab_type": "text"
      },
      "source": [
        "# Simple C Programming with Google Colab\n",
        "\n",
        "- Instructir: Jeong-Gun Lee (School of Software, Hallym University)\n",
        "- Email: jeonggun.lee@gmail.com\n",
        "- Web: http://www.onchp.net\n"
      ]
    },
    {
      "cell_type": "markdown",
      "metadata": {
        "id": "tTHsRoTeVv9u",
        "colab_type": "text"
      },
      "source": [
        "You can make a simple C code with the name of **codename.c** through [ %%writefile codename.c ] "
      ]
    },
    {
      "cell_type": "code",
      "metadata": {
        "id": "6kfdjeSwTN2p",
        "colab_type": "code",
        "outputId": "7afe2f43-616f-4b7b-855b-54657b9ca165",
        "colab": {
          "base_uri": "https://localhost:8080/",
          "height": 35
        }
      },
      "source": [
        "%%writefile prog.c\n",
        "\n",
        "#include<stdio.h>\n",
        "\n",
        "int main(void)\n",
        "{\n",
        "    printf(\"Hello World!~~~\");\n",
        "    \n",
        "    return 0;  // 정상 완료\n",
        "}"
      ],
      "execution_count": 60,
      "outputs": [
        {
          "output_type": "stream",
          "text": [
            "Overwriting prog.c\n"
          ],
          "name": "stdout"
        }
      ]
    },
    {
      "cell_type": "code",
      "metadata": {
        "id": "I1QFktLNUGD1",
        "colab_type": "code",
        "outputId": "bd204c80-70eb-41ae-8d4e-14eb56cfdd66",
        "colab": {
          "base_uri": "https://localhost:8080/",
          "height": 53
        }
      },
      "source": [
        "!ls"
      ],
      "execution_count": 61,
      "outputs": [
        {
          "output_type": "stream",
          "text": [
            "hello\t   matrixmul.c\tpthread   pthread2.c  sample_data\n",
            "matrixmul  prog.c\tpthread2  pthread.c\n"
          ],
          "name": "stdout"
        }
      ]
    },
    {
      "cell_type": "code",
      "metadata": {
        "id": "eKihNbD_UHYB",
        "colab_type": "code",
        "outputId": "cb0fe1c7-0268-4250-8a57-4be64fd17837",
        "colab": {
          "base_uri": "https://localhost:8080/",
          "height": 107
        }
      },
      "source": [
        "!gcc --version"
      ],
      "execution_count": 62,
      "outputs": [
        {
          "output_type": "stream",
          "text": [
            "gcc (Ubuntu 7.4.0-1ubuntu1~18.04) 7.4.0\n",
            "Copyright (C) 2017 Free Software Foundation, Inc.\n",
            "This is free software; see the source for copying conditions.  There is NO\n",
            "warranty; not even for MERCHANTABILITY or FITNESS FOR A PARTICULAR PURPOSE.\n",
            "\n"
          ],
          "name": "stdout"
        }
      ]
    },
    {
      "cell_type": "code",
      "metadata": {
        "id": "OT9t0yXdUNzI",
        "colab_type": "code",
        "colab": {}
      },
      "source": [
        "!gcc -o hello prog.c"
      ],
      "execution_count": 0,
      "outputs": []
    },
    {
      "cell_type": "code",
      "metadata": {
        "id": "0uoBCc8UUXyn",
        "colab_type": "code",
        "outputId": "28f3fb41-d34d-4182-9ce2-0c86e6ae3621",
        "colab": {
          "base_uri": "https://localhost:8080/",
          "height": 35
        }
      },
      "source": [
        "!./hello"
      ],
      "execution_count": 64,
      "outputs": [
        {
          "output_type": "stream",
          "text": [
            "Hello World!~~~"
          ],
          "name": "stdout"
        }
      ]
    },
    {
      "cell_type": "markdown",
      "metadata": {
        "id": "T1aFAcEkWcy-",
        "colab_type": "text"
      },
      "source": [
        "*  *  *\n",
        "## Pthread Exercise\n",
        "*  *  *\n",
        "\n"
      ]
    },
    {
      "cell_type": "code",
      "metadata": {
        "id": "tVwPnqh0XXah",
        "colab_type": "code",
        "colab": {
          "base_uri": "https://localhost:8080/",
          "height": 35
        },
        "outputId": "718e4efb-c72d-4cb8-e211-2bb5d7f1dec8"
      },
      "source": [
        "%%writefile pthread.c\n",
        "\n",
        "/////////////////////////////////////////////////////////\n",
        "// POSIX pthread example\n",
        "// adapted from\n",
        "// https://computing.llnl.gov/tutorials/pthreads/\n",
        "//\n",
        "// gcc thread_1.c -o th -pthread\n",
        "/////////////////////////////////////////////////////////\n",
        "\n",
        " #include <pthread.h>\n",
        " #include <stdio.h>\n",
        " \n",
        " #define NUM_THREADS 5\n",
        "\n",
        " /////////////////////////////////////////////////////////\n",
        " //  print function used as all threads\n",
        " /////////////////////////////////////////////////////////\n",
        " void *PrintHello(void *threadid)\n",
        " {\n",
        "    int tid;\n",
        "    tid = (int)threadid;\n",
        "    printf(\"Hello World! It's me, thread #%d!\\n\", tid);\n",
        "\t\n",
        "    pthread_exit(NULL);\n",
        " }\n",
        "\n",
        " /////////////////////////////////////////////////////////\n",
        " // start the threads and print in MAIN\n",
        " /////////////////////////////////////////////////////////\n",
        " int main (int argc, char *argv[])\n",
        " {\n",
        "    // array of thread handles\n",
        "\tpthread_t threads[NUM_THREADS];\n",
        "\t// create return code\n",
        "    int rc;\n",
        "\t// thread counter\n",
        "    int t;\n",
        "\n",
        "\t// launch the threads and note that the print order \n",
        "\t// between MAIN and the threads is\n",
        "\t// not deterministic and may change when you SSH in versus\n",
        "\t// use serial console, and from run to run\n",
        "    for(t=0; t<NUM_THREADS; t++){\n",
        "       printf(\"In main: creating thread %d\\n\", t);\n",
        "       rc = pthread_create(&threads[t], NULL, PrintHello, (void *)t);\n",
        "       if (rc){\n",
        "          printf(\"ERROR; return code from pthread_create() is %d\\n\", rc);\n",
        "       } // if (rc)\t\n",
        "    } //for(t=0; t<NUM_THREADS; t++)\n",
        "    /* Last thing that main() should do */\n",
        "    pthread_exit(NULL);\n",
        " } // main"
      ],
      "execution_count": 65,
      "outputs": [
        {
          "output_type": "stream",
          "text": [
            "Overwriting pthread.c\n"
          ],
          "name": "stdout"
        }
      ]
    },
    {
      "cell_type": "code",
      "metadata": {
        "id": "kdGyBT0Gj35L",
        "colab_type": "code",
        "colab": {
          "base_uri": "https://localhost:8080/",
          "height": 161
        },
        "outputId": "eab9fcdf-6707-42f3-c77e-2c4cf0edcbfe"
      },
      "source": [
        "!gcc -o pthread pthread.c -lpthread"
      ],
      "execution_count": 66,
      "outputs": [
        {
          "output_type": "stream",
          "text": [
            "\u001b[01m\u001b[Kpthread.c:\u001b[m\u001b[K In function ‘\u001b[01m\u001b[KPrintHello\u001b[m\u001b[K’:\n",
            "\u001b[01m\u001b[Kpthread.c:21:11:\u001b[m\u001b[K \u001b[01;35m\u001b[Kwarning: \u001b[m\u001b[Kcast from pointer to integer of different size [\u001b[01;35m\u001b[K-Wpointer-to-int-cast\u001b[m\u001b[K]\n",
            "     tid = \u001b[01;35m\u001b[K(\u001b[m\u001b[Kint)threadid;\n",
            "           \u001b[01;35m\u001b[K^\u001b[m\u001b[K\n",
            "\u001b[01m\u001b[Kpthread.c:\u001b[m\u001b[K In function ‘\u001b[01m\u001b[Kmain\u001b[m\u001b[K’:\n",
            "\u001b[01m\u001b[Kpthread.c:45:59:\u001b[m\u001b[K \u001b[01;35m\u001b[Kwarning: \u001b[m\u001b[Kcast to pointer from integer of different size [\u001b[01;35m\u001b[K-Wint-to-pointer-cast\u001b[m\u001b[K]\n",
            "        rc = pthread_create(&threads[t], NULL, PrintHello, \u001b[01;35m\u001b[K(\u001b[m\u001b[Kvoid *)t);\n",
            "                                                           \u001b[01;35m\u001b[K^\u001b[m\u001b[K\n"
          ],
          "name": "stdout"
        }
      ]
    },
    {
      "cell_type": "code",
      "metadata": {
        "id": "cWY-W0loj80K",
        "colab_type": "code",
        "colab": {
          "base_uri": "https://localhost:8080/",
          "height": 233
        },
        "outputId": "a2e3202c-8492-40e5-c3ba-d8baa6afa184"
      },
      "source": [
        "time !./pthread"
      ],
      "execution_count": 73,
      "outputs": [
        {
          "output_type": "stream",
          "text": [
            "In main: creating thread 0\n",
            "In main: creating thread 1\n",
            "Hello World! It's me, thread #0!\n",
            "Hello World! It's me, thread #1!\n",
            "In main: creating thread 2\n",
            "In main: creating thread 3\n",
            "In main: creating thread 4\n",
            "Hello World! It's me, thread #2!\n",
            "Hello World! It's me, thread #4!\n",
            "Hello World! It's me, thread #3!\n",
            "CPU times: user 15.9 ms, sys: 16.7 ms, total: 32.6 ms\n",
            "Wall time: 1.41 s\n"
          ],
          "name": "stdout"
        }
      ]
    },
    {
      "cell_type": "code",
      "metadata": {
        "id": "3_RHaA2nuNMd",
        "colab_type": "code",
        "colab": {
          "base_uri": "https://localhost:8080/",
          "height": 35
        },
        "outputId": "eb113cf7-063d-42bd-f841-2cadcc4eab2d"
      },
      "source": [
        "%%writefile matrixmul.c\n",
        "\n",
        "#include <pthread.h>\n",
        "#include <stdlib.h>\n",
        "#include <stdio.h>\n",
        " \n",
        "#define SIZE 1024   // Size by SIZE matrices\n",
        "int num_thrd;   // number of threads\n",
        " \n",
        "int A[SIZE][SIZE], B[SIZE][SIZE], C[SIZE][SIZE];\n",
        " \n",
        "// initialize a matrix\n",
        "void init_matrix(int m[SIZE][SIZE])\n",
        "{\n",
        "  int i, j, val = 0;\n",
        "  for (i = 0; i < SIZE; i++)\n",
        "    for (j = 0; j < SIZE; j++)\n",
        "      m[i][j] = val++;\n",
        "}\n",
        " \n",
        "void print_matrix(int m[SIZE][SIZE])\n",
        "{\n",
        "  int i, j;\n",
        "  for (i = 0; i < SIZE; i++) {\n",
        "    printf(\"\\n\\t| \");\n",
        "    for (j = 0; j < SIZE; j++)\n",
        "      printf(\"%2d \", m[i][j]);\n",
        "    printf(\"|\");\n",
        "  }\n",
        "}\n",
        " \n",
        "// thread function: taking \"slice\" as its argument\n",
        "void* multiply(void* slice)\n",
        "{\n",
        "  int s = (int)slice;   // retrive the slice info\n",
        "  int from = (s * SIZE)/num_thrd; // note that this 'slicing' works fine\n",
        "  int to = ((s+1) * SIZE)/num_thrd; // even if SIZE is not divisible by num_thrd\n",
        "  int i,j,k;\n",
        " \n",
        "  printf(\"computing slice %d (from row %d to %d)\\n\", s, from, to-1);\n",
        "  for (i = from; i < to; i++)\n",
        "  {  \n",
        "    for (j = 0; j < SIZE; j++)\n",
        "    {\n",
        "      C[i][j] = 0;\n",
        "      for ( k = 0; k < SIZE; k++)\n",
        "        C[i][j] += A[i][k]*B[k][j];\n",
        "    }\n",
        "  }\n",
        "  printf(\"finished slice %d\\n\", s);\n",
        "  return 0;\n",
        "}\n",
        " \n",
        "int main(int argc, char* argv[])\n",
        "{\n",
        "  pthread_t* thread;  // pointer to a group of threads\n",
        "  int i;\n",
        " \n",
        "  if (argc!=2)\n",
        "  {\n",
        "    printf(\"Usage: %s number_of_threads\\n\",argv[0]);\n",
        "    exit(-1);\n",
        "  }\n",
        " \n",
        "  num_thrd = atoi(argv[1]);\n",
        "  init_matrix(A);\n",
        "  init_matrix(B);\n",
        "  thread = (pthread_t*) malloc(num_thrd*sizeof(pthread_t));\n",
        " \n",
        "  // this for loop not entered if threadd number is specified as 1\n",
        "  for (i = 1; i < num_thrd; i++)\n",
        "  {\n",
        "    // creates each thread working on its own slice of i\n",
        "    if (pthread_create (&thread[i], NULL, multiply, (void*)i) != 0 )\n",
        "    {\n",
        "      perror(\"Can't create thread\");\n",
        "      free(thread);\n",
        "      exit(-1);\n",
        "    }\n",
        "  }\n",
        " \n",
        "  // main thread works on slice 0\n",
        "  // so everybody is busy\n",
        "  // main thread does everything if threadd number is specified as 1\n",
        "  multiply(0);\n",
        " \n",
        "  // main thead waiting for other thread to complete\n",
        "  for (i = 1; i < num_thrd; i++)\n",
        "    pthread_join (thread[i], NULL);\n",
        "\n",
        "/*    \n",
        "  printf(\"\\n\\n\");\n",
        "  print_matrix(A);\n",
        "  printf(\"\\n\\n\\t       * \\n\");\n",
        "  print_matrix(B);\n",
        "  printf(\"\\n\\n\\t       = \\n\");\n",
        "  print_matrix(C);\n",
        "  printf(\"\\n\\n\");\n",
        "*/ \n",
        "  free(thread);\n",
        " \n",
        "  return 0;\n",
        " \n",
        "}"
      ],
      "execution_count": 68,
      "outputs": [
        {
          "output_type": "stream",
          "text": [
            "Overwriting matrixmul.c\n"
          ],
          "name": "stdout"
        }
      ]
    },
    {
      "cell_type": "code",
      "metadata": {
        "id": "1OMkcqszubqt",
        "colab_type": "code",
        "colab": {
          "base_uri": "https://localhost:8080/",
          "height": 161
        },
        "outputId": "45b7b9ff-63d8-4348-ba04-542cbf7b65b2"
      },
      "source": [
        "!gcc -o matrixmul matrixmul.c -lpthread"
      ],
      "execution_count": 69,
      "outputs": [
        {
          "output_type": "stream",
          "text": [
            "\u001b[01m\u001b[Kmatrixmul.c:\u001b[m\u001b[K In function ‘\u001b[01m\u001b[Kmultiply\u001b[m\u001b[K’:\n",
            "\u001b[01m\u001b[Kmatrixmul.c:34:11:\u001b[m\u001b[K \u001b[01;35m\u001b[Kwarning: \u001b[m\u001b[Kcast from pointer to integer of different size [\u001b[01;35m\u001b[K-Wpointer-to-int-cast\u001b[m\u001b[K]\n",
            "   int s = \u001b[01;35m\u001b[K(\u001b[m\u001b[Kint)slice;   // retrive the slice info\n",
            "           \u001b[01;35m\u001b[K^\u001b[m\u001b[K\n",
            "\u001b[01m\u001b[Kmatrixmul.c:\u001b[m\u001b[K In function ‘\u001b[01m\u001b[Kmain\u001b[m\u001b[K’:\n",
            "\u001b[01m\u001b[Kmatrixmul.c:73:53:\u001b[m\u001b[K \u001b[01;35m\u001b[Kwarning: \u001b[m\u001b[Kcast to pointer from integer of different size [\u001b[01;35m\u001b[K-Wint-to-pointer-cast\u001b[m\u001b[K]\n",
            "     if (pthread_create (&thread[i], NULL, multiply, \u001b[01;35m\u001b[K(\u001b[m\u001b[Kvoid*)i) != 0 )\n",
            "                                                     \u001b[01;35m\u001b[K^\u001b[m\u001b[K\n"
          ],
          "name": "stdout"
        }
      ]
    },
    {
      "cell_type": "code",
      "metadata": {
        "id": "cXA3Z7fdufSp",
        "colab_type": "code",
        "colab": {
          "base_uri": "https://localhost:8080/",
          "height": 89
        },
        "outputId": "41a2a436-5658-4c91-ca6b-62835070bf3a"
      },
      "source": [
        "time !./matrixmul 1"
      ],
      "execution_count": 70,
      "outputs": [
        {
          "output_type": "stream",
          "text": [
            "computing slice 0 (from row 0 to 1023)\n",
            "finished slice 0\n",
            "CPU times: user 80.4 ms, sys: 36.8 ms, total: 117 ms\n",
            "Wall time: 15.5 s\n"
          ],
          "name": "stdout"
        }
      ]
    },
    {
      "cell_type": "code",
      "metadata": {
        "id": "ZsMm2ftVvngu",
        "colab_type": "code",
        "colab": {
          "base_uri": "https://localhost:8080/",
          "height": 107
        },
        "outputId": "9f156d30-0841-4f07-e00f-8366e842e011"
      },
      "source": [
        "time !./matrixmul 2"
      ],
      "execution_count": 71,
      "outputs": [
        {
          "output_type": "stream",
          "text": [
            "computing slice 0 (from row 0 to 511)\n",
            "computing slice 1 (from row 512 to 1023)\n",
            "^C\n",
            "CPU times: user 66.6 ms, sys: 23.8 ms, total: 90.4 ms\n",
            "Wall time: 11.9 s\n"
          ],
          "name": "stdout"
        }
      ]
    },
    {
      "cell_type": "code",
      "metadata": {
        "id": "pfDPz1qxvv5l",
        "colab_type": "code",
        "colab": {
          "base_uri": "https://localhost:8080/",
          "height": 143
        },
        "outputId": "7eb5e02e-d41a-458d-c5a4-e27666c079d0"
      },
      "source": [
        "time !./matrixmul 4"
      ],
      "execution_count": 72,
      "outputs": [
        {
          "output_type": "stream",
          "text": [
            "computing slice 1 (from row 256 to 511)\n",
            "computing slice 2 (from row 512 to 767)\n",
            "computing slice 0 (from row 0 to 255)\n",
            "computing slice 3 (from row 768 to 1023)\n",
            "^C\n",
            "CPU times: user 48.4 ms, sys: 17.3 ms, total: 65.7 ms\n",
            "Wall time: 7.86 s\n"
          ],
          "name": "stdout"
        }
      ]
    }
  ]
}